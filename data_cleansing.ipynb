{
 "cells": [
  {
   "cell_type": "code",
   "execution_count": 187,
   "metadata": {},
   "outputs": [],
   "source": [
    "import pandas as pd\n",
    "import numpy as np"
   ]
  },
  {
   "cell_type": "code",
   "execution_count": 188,
   "metadata": {},
   "outputs": [],
   "source": [
    "df17 = pd.read_csv(\"2017_old.csv\")\n",
    "df16 = pd.read_csv(\"2016_old.csv\")\n",
    "df15 = pd.read_csv(\"2015_old.csv\")"
   ]
  },
  {
   "cell_type": "markdown",
   "metadata": {},
   "source": [
    "Editing older DataFrame Columns (2015, 2016, 1027) to match newrs for ease of use:"
   ]
  },
  {
   "cell_type": "code",
   "execution_count": 189,
   "metadata": {},
   "outputs": [],
   "source": [
    "df17 = df17.rename(columns = {\"Country\" : \"Country or region\", \"Happiness.Rank\" : \"Overall rank\", \n",
    "                              \"Happiness.Score\" : \"Score\", \"Whisker.high\" : \"Whisker high\", \"Whisker.low\" : \"Whisker low\", \n",
    "                             \"Economy..GDP.per.Capita.\" : \"GDP per capita\", \"Health..Life.Expectancy.\" : \"Healthy life expectancy\", \n",
    "                             \"Freedom\" : \"Freedom to make life choice\", \"Trust..Government.Corruption.\" : \"Perceptions of corruption\", \n",
    "                             \"Dystopia.Residual\" : \"Dystopian residual\"})\n",
    "#print(df17.head(1))"
   ]
  },
  {
   "cell_type": "code",
   "execution_count": 190,
   "metadata": {},
   "outputs": [],
   "source": [
    "df16 = df16.drop('Region', 1)\n",
    "df16 = df16.rename(columns = {\"Country\" : \"Country or region\", \"Happiness Rank\" : \"Overall rank\", \n",
    "                              \"Happiness Score\" : \"Score\", \"Economy (GDP per Capita)\" : \"GDP per capita\", \n",
    "                              \"Health (Life Expectancy)\" : \"Healthy life expectancy\", \n",
    "                             \"Freedom\" : \"Freedom to make life choice\", \"Trust (Government Corruption)\" : \"Perceptions of corruption\", \n",
    "                             \"Dystopia Residual\" : \"Dystopian residual\", \"Lower Confidence Interval\" : \"Lower confidence interval\" ,\n",
    "                             \"Upper Confidence Interval\" : \"Upper confidence interval\"})\n",
    "#print(df16.head(1))"
   ]
  },
  {
   "cell_type": "code",
   "execution_count": 191,
   "metadata": {},
   "outputs": [],
   "source": [
    "df15 = df15.drop('Region', 1)\n",
    "df15 = df15.rename(columns = {\"Country\" : \"Country or region\", \"Happiness Rank\" : \"Overall rank\", \n",
    "                              \"Happiness Score\" : \"Score\", \"Economy (GDP per Capita)\" : \"GDP per capita\", \n",
    "                              \"Health (Life Expectancy)\" : \"Healthy life expectancy\", \n",
    "                             \"Freedom\" : \"Freedom to make life choice\", \"Trust (Government Corruption)\" : \"Perceptions of corruption\", \n",
    "                             \"Dystopia Residual\" : \"Dystopian residual\", \"Lower Confidence Interval\" : \"Lower confidence interval\" ,\n",
    "                             \"Upper Confidence Interval\" : \"Upper confidence interval\", \"Standard Error\" : \"Standard error\"})"
   ]
  },
  {
   "cell_type": "markdown",
   "metadata": {},
   "source": [
    "Filling 0 values with column's mean:"
   ]
  },
  {
   "cell_type": "code",
   "execution_count": 192,
   "metadata": {},
   "outputs": [],
   "source": [
    "df17_columns = [\"GDP per capita\", \"Family\", \"Healthy life expectancy\", \"Freedom to make life choice\", \"Generosity\", \"Perceptions of corruption\", \"Dystopian residual\"]\n",
    "for column in df17_columns:\n",
    "    df17[column] = df17[column].replace({0:np.nan}).astype(float)\n",
    "for column in df17_columns:\n",
    "    df17[column] = df17[column].fillna(value=df17[column].mean())"
   ]
  },
  {
   "cell_type": "code",
   "execution_count": 194,
   "metadata": {},
   "outputs": [],
   "source": [
    "df16_columns = [\"Lower confidence interval\", \"Upper confidence interval\", \"GDP per capita\", \"Family\", \"Healthy life expectancy\", \"Freedom to make life choice\", \"Generosity\", \"Perceptions of corruption\", \"Dystopian residual\"]\n",
    "for column in df16_columns:\n",
    "    df16[column] = df16[column].replace({0:np.nan}).astype(float)\n",
    "for column in df16_columns:\n",
    "    df16[column] = df16[column].fillna(value=df16[column].mean())"
   ]
  },
  {
   "cell_type": "code",
   "execution_count": 195,
   "metadata": {},
   "outputs": [],
   "source": [
    "df15_columns = [\"Standard error\", \"GDP per capita\", \"Family\", \"Healthy life expectancy\", \"Freedom to make life choice\", \"Generosity\", \"Perceptions of corruption\", \"Dystopian residual\"]\n",
    "for column in df15_columns:\n",
    "    df15[column] = df15[column].replace({0:np.nan}).astype(float)\n",
    "for column in df15_columns:\n",
    "    df15[column] = df15[column].fillna(value=df15[column].mean())"
   ]
  },
  {
   "cell_type": "code",
   "execution_count": 196,
   "metadata": {},
   "outputs": [],
   "source": [
    "df17.to_csv('2017.csv', index = False)\n",
    "df16.to_csv('2016.csv', index = False)\n",
    "df15.to_csv('2015.csv', index = False)"
   ]
  }
 ],
 "metadata": {
  "kernelspec": {
   "display_name": "Python 3",
   "language": "python",
   "name": "python3"
  },
  "language_info": {
   "codemirror_mode": {
    "name": "ipython",
    "version": 3
   },
   "file_extension": ".py",
   "mimetype": "text/x-python",
   "name": "python",
   "nbconvert_exporter": "python",
   "pygments_lexer": "ipython3",
   "version": "3.8.5"
  }
 },
 "nbformat": 4,
 "nbformat_minor": 4
}
